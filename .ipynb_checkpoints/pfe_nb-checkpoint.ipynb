{
 "cells": [
  {
   "cell_type": "code",
   "execution_count": 1,
   "id": "510ce0e2-5f70-4d55-bfd2-f3965c185d18",
   "metadata": {
    "execution": {
     "iopub.execute_input": "2022-08-24T17:33:16.619258Z",
     "iopub.status.busy": "2022-08-24T17:33:16.618837Z",
     "iopub.status.idle": "2022-08-24T17:33:22.460559Z",
     "shell.execute_reply": "2022-08-24T17:33:22.460014Z",
     "shell.execute_reply.started": "2022-08-24T17:33:16.619178Z"
    }
   },
   "outputs": [
    {
     "name": "stdout",
     "output_type": "stream",
     "text": [
      "Requirement already satisfied: sklearn in /usr/local/lib/python3.8/dist-packages (0.0)\n",
      "Requirement already satisfied: scikit-learn in /usr/local/lib/python3.8/dist-packages (from sklearn) (1.1.2)\n",
      "Requirement already satisfied: threadpoolctl>=2.0.0 in /usr/local/lib/python3.8/dist-packages (from scikit-learn->sklearn) (3.1.0)\n",
      "Requirement already satisfied: numpy>=1.17.3 in /usr/local/lib/python3.8/dist-packages (from scikit-learn->sklearn) (1.23.2)\n",
      "Requirement already satisfied: joblib>=1.0.0 in /usr/local/lib/python3.8/dist-packages (from scikit-learn->sklearn) (1.1.0)\n",
      "Requirement already satisfied: scipy>=1.3.2 in /usr/local/lib/python3.8/dist-packages (from scikit-learn->sklearn) (1.9.0)\n",
      "\u001b[33mWARNING: Running pip as the 'root' user can result in broken permissions and conflicting behaviour with the system package manager. It is recommended to use a virtual environment instead: https://pip.pypa.io/warnings/venv\u001b[0m\u001b[33m\n",
      "\u001b[0mRequirement already satisfied: gensim in /usr/local/lib/python3.8/dist-packages (4.2.0)\n",
      "Requirement already satisfied: smart-open>=1.8.1 in /usr/local/lib/python3.8/dist-packages (from gensim) (6.1.0)\n",
      "Requirement already satisfied: numpy>=1.17.0 in /usr/local/lib/python3.8/dist-packages (from gensim) (1.23.2)\n",
      "Requirement already satisfied: scipy>=0.18.1 in /usr/local/lib/python3.8/dist-packages (from gensim) (1.9.0)\n",
      "\u001b[33mWARNING: Running pip as the 'root' user can result in broken permissions and conflicting behaviour with the system package manager. It is recommended to use a virtual environment instead: https://pip.pypa.io/warnings/venv\u001b[0m\u001b[33m\n",
      "\u001b[0mCollecting git+https://github.com/makcedward/nlpaug.git\n",
      "  Cloning https://github.com/makcedward/nlpaug.git to /tmp/pip-req-build-m39zlv3f\n",
      "  Running command git clone --filter=blob:none --quiet https://github.com/makcedward/nlpaug.git /tmp/pip-req-build-m39zlv3f\n",
      "  Resolved https://github.com/makcedward/nlpaug.git to commit 23800cbb9632c7fc8c4a88d46f9c4ecf68a96299\n",
      "  Preparing metadata (setup.py) ... \u001b[?25ldone\n",
      "\u001b[?25hRequirement already satisfied: numpy in /usr/local/lib/python3.8/dist-packages (1.23.2)\n",
      "Requirement already satisfied: pandas>=1.2.0 in /usr/local/lib/python3.8/dist-packages (from nlpaug==1.1.11) (1.4.3)\n",
      "Requirement already satisfied: requests>=2.22.0 in /usr/lib/python3/dist-packages (from nlpaug==1.1.11) (2.22.0)\n",
      "Requirement already satisfied: gdown>=4.0.0 in /usr/local/lib/python3.8/dist-packages (from nlpaug==1.1.11) (4.5.1)\n",
      "Requirement already satisfied: beautifulsoup4 in /usr/local/lib/python3.8/dist-packages (from gdown>=4.0.0->nlpaug==1.1.11) (4.11.1)\n",
      "Requirement already satisfied: filelock in /usr/local/lib/python3.8/dist-packages (from gdown>=4.0.0->nlpaug==1.1.11) (3.8.0)\n",
      "Requirement already satisfied: tqdm in /usr/local/lib/python3.8/dist-packages (from gdown>=4.0.0->nlpaug==1.1.11) (4.64.0)\n",
      "Requirement already satisfied: six in /usr/lib/python3/dist-packages (from gdown>=4.0.0->nlpaug==1.1.11) (1.14.0)\n",
      "Requirement already satisfied: python-dateutil>=2.8.1 in /usr/local/lib/python3.8/dist-packages (from pandas>=1.2.0->nlpaug==1.1.11) (2.8.2)\n",
      "Requirement already satisfied: pytz>=2020.1 in /usr/local/lib/python3.8/dist-packages (from pandas>=1.2.0->nlpaug==1.1.11) (2022.1)\n",
      "Requirement already satisfied: soupsieve>1.2 in /usr/local/lib/python3.8/dist-packages (from beautifulsoup4->gdown>=4.0.0->nlpaug==1.1.11) (2.3.2.post1)\n",
      "Requirement already satisfied: PySocks!=1.5.7,>=1.5.6 in /usr/local/lib/python3.8/dist-packages (from requests>=2.22.0->nlpaug==1.1.11) (1.7.1)\n",
      "\u001b[33mWARNING: Running pip as the 'root' user can result in broken permissions and conflicting behaviour with the system package manager. It is recommended to use a virtual environment instead: https://pip.pypa.io/warnings/venv\u001b[0m\u001b[33m\n",
      "\u001b[0m"
     ]
    }
   ],
   "source": [
    "# !pip install datasets\n",
    "# !pip install torch\n",
    "# !pip install transformers\n",
    "!pip install sklearn\n",
    "!pip install gensim\n",
    "!pip install numpy git+https://github.com/makcedward/nlpaug.git"
   ]
  },
  {
   "cell_type": "code",
   "execution_count": 2,
   "id": "10a08f4c-ab12-4e63-8983-03e085022ce1",
   "metadata": {
    "execution": {
     "iopub.execute_input": "2022-08-24T17:33:26.079709Z",
     "iopub.status.busy": "2022-08-24T17:33:26.079466Z",
     "iopub.status.idle": "2022-08-24T17:33:27.176590Z",
     "shell.execute_reply": "2022-08-24T17:33:27.175743Z",
     "shell.execute_reply.started": "2022-08-24T17:33:26.079664Z"
    }
   },
   "outputs": [],
   "source": [
    "import os\n",
    "import re\n",
    "import pandas as pd\n",
    "\n",
    "folders = ['./pan15-dutch', './pan15-english', './pan15-italian', './pan15-spanish']\n",
    "cols = [\"gender\", \"age\", \"extroverted\", \"stable\", \"agreeable\", \\\n",
    "            \"open\", \"conscientious\", \"text\"]\n",
    "\n",
    "all_data = []\n",
    "for folder in folders:\n",
    "    for root, dirs, files in os.walk(folder):\n",
    "        for file in files:\n",
    "            if file != 'truth.txt':\n",
    "                path = os.path.abspath(os.path.join(root, file))\n",
    "                with open(path, \"r\") as f:\n",
    "                    content = f.read()\n",
    "                content = re.findall(r\"\\S+|\\n\", content)\n",
    "                this_gender = content[0]\n",
    "                this_age_group = content[1]\n",
    "                this_extroverted = content[2]\n",
    "                this_stable = content[3]\n",
    "                this_agreeable = content[4]\n",
    "                this_open = content[5]\n",
    "                this_conscientious = content[6]\n",
    "                this_text = content[7:]\n",
    "                this_text = ' '.join(this_text)\n",
    "                data = [this_gender, this_age_group, this_extroverted, this_stable, \\\n",
    "                        this_agreeable, this_open, this_conscientious, this_text]\n",
    "                \n",
    "\n",
    "                all_data.append(data)\n",
    "df = pd.DataFrame(all_data, columns=cols)\n",
    "                "
   ]
  },
  {
   "cell_type": "code",
   "execution_count": 3,
   "id": "6c77f376-a4e1-46d4-aa7e-5d0501332dd9",
   "metadata": {
    "execution": {
     "iopub.execute_input": "2022-08-24T17:33:30.188928Z",
     "iopub.status.busy": "2022-08-24T17:33:30.188627Z",
     "iopub.status.idle": "2022-08-24T17:33:30.207124Z",
     "shell.execute_reply": "2022-08-24T17:33:30.206519Z",
     "shell.execute_reply.started": "2022-08-24T17:33:30.188907Z"
    }
   },
   "outputs": [
    {
     "data": {
      "text/html": [
       "<div>\n",
       "<style scoped>\n",
       "    .dataframe tbody tr th:only-of-type {\n",
       "        vertical-align: middle;\n",
       "    }\n",
       "\n",
       "    .dataframe tbody tr th {\n",
       "        vertical-align: top;\n",
       "    }\n",
       "\n",
       "    .dataframe thead th {\n",
       "        text-align: right;\n",
       "    }\n",
       "</style>\n",
       "<table border=\"1\" class=\"dataframe\">\n",
       "  <thead>\n",
       "    <tr style=\"text-align: right;\">\n",
       "      <th></th>\n",
       "      <th>gender</th>\n",
       "      <th>age</th>\n",
       "      <th>extroverted</th>\n",
       "      <th>stable</th>\n",
       "      <th>agreeable</th>\n",
       "      <th>open</th>\n",
       "      <th>conscientious</th>\n",
       "      <th>text</th>\n",
       "    </tr>\n",
       "  </thead>\n",
       "  <tbody>\n",
       "    <tr>\n",
       "      <th>0</th>\n",
       "      <td>0</td>\n",
       "      <td>None</td>\n",
       "      <td>0.2</td>\n",
       "      <td>0.4</td>\n",
       "      <td>0.2</td>\n",
       "      <td>0.1</td>\n",
       "      <td>0.4</td>\n",
       "      <td>@username @username And what are the first imp...</td>\n",
       "    </tr>\n",
       "    <tr>\n",
       "      <th>1</th>\n",
       "      <td>1</td>\n",
       "      <td>None</td>\n",
       "      <td>0.4</td>\n",
       "      <td>0.5</td>\n",
       "      <td>0.2</td>\n",
       "      <td>0.2</td>\n",
       "      <td>0.2</td>\n",
       "      <td>Here we go again: Tomorrow could be the best d...</td>\n",
       "    </tr>\n",
       "    <tr>\n",
       "      <th>2</th>\n",
       "      <td>1</td>\n",
       "      <td>None</td>\n",
       "      <td>0.2</td>\n",
       "      <td>0.2</td>\n",
       "      <td>0.1</td>\n",
       "      <td>0.3</td>\n",
       "      <td>0.1</td>\n",
       "      <td>I like a @username: Sesame Street: Upside Down...</td>\n",
       "    </tr>\n",
       "    <tr>\n",
       "      <th>3</th>\n",
       "      <td>0</td>\n",
       "      <td>None</td>\n",
       "      <td>0.2</td>\n",
       "      <td>0.2</td>\n",
       "      <td>0.1</td>\n",
       "      <td>0.1</td>\n",
       "      <td>0.5</td>\n",
       "      <td>Cool art vs Lame art: vs \\n @username gives a ...</td>\n",
       "    </tr>\n",
       "    <tr>\n",
       "      <th>4</th>\n",
       "      <td>0</td>\n",
       "      <td>None</td>\n",
       "      <td>0.4</td>\n",
       "      <td>0.4</td>\n",
       "      <td>0.1</td>\n",
       "      <td>0.1</td>\n",
       "      <td>0.5</td>\n",
       "      <td>@username @username I'm still curious though i...</td>\n",
       "    </tr>\n",
       "    <tr>\n",
       "      <th>...</th>\n",
       "      <td>...</td>\n",
       "      <td>...</td>\n",
       "      <td>...</td>\n",
       "      <td>...</td>\n",
       "      <td>...</td>\n",
       "      <td>...</td>\n",
       "      <td>...</td>\n",
       "      <td>...</td>\n",
       "    </tr>\n",
       "    <tr>\n",
       "      <th>271</th>\n",
       "      <td>1</td>\n",
       "      <td>1</td>\n",
       "      <td>0.1</td>\n",
       "      <td>0.1</td>\n",
       "      <td>-0.1</td>\n",
       "      <td>0.4</td>\n",
       "      <td>0.1</td>\n",
       "      <td>@username @username @username @username the fi...</td>\n",
       "    </tr>\n",
       "    <tr>\n",
       "      <th>272</th>\n",
       "      <td>0</td>\n",
       "      <td>0</td>\n",
       "      <td>0.1</td>\n",
       "      <td>0.0</td>\n",
       "      <td>0.2</td>\n",
       "      <td>0.0</td>\n",
       "      <td>0.1</td>\n",
       "      <td>@username I spend half an hour looking for the...</td>\n",
       "    </tr>\n",
       "    <tr>\n",
       "      <th>273</th>\n",
       "      <td>0</td>\n",
       "      <td>2</td>\n",
       "      <td>0.5</td>\n",
       "      <td>0.1</td>\n",
       "      <td>0.1</td>\n",
       "      <td>0.1</td>\n",
       "      <td>0.1</td>\n",
       "      <td>@username you are right! \\n Today marks World ...</td>\n",
       "    </tr>\n",
       "    <tr>\n",
       "      <th>274</th>\n",
       "      <td>0</td>\n",
       "      <td>0</td>\n",
       "      <td>0.2</td>\n",
       "      <td>0.4</td>\n",
       "      <td>0.2</td>\n",
       "      <td>0.0</td>\n",
       "      <td>0.4</td>\n",
       "      <td>@username I have been in Grazalema since: !! I...</td>\n",
       "    </tr>\n",
       "    <tr>\n",
       "      <th>275</th>\n",
       "      <td>0</td>\n",
       "      <td>0</td>\n",
       "      <td>0.2</td>\n",
       "      <td>0.4</td>\n",
       "      <td>0.2</td>\n",
       "      <td>0.0</td>\n",
       "      <td>0.4</td>\n",
       "      <td>Good morning... Whoever they are. \\n This thin...</td>\n",
       "    </tr>\n",
       "  </tbody>\n",
       "</table>\n",
       "<p>276 rows × 8 columns</p>\n",
       "</div>"
      ],
      "text/plain": [
       "    gender   age extroverted stable agreeable open conscientious  \\\n",
       "0        0  None         0.2    0.4       0.2  0.1           0.4   \n",
       "1        1  None         0.4    0.5       0.2  0.2           0.2   \n",
       "2        1  None         0.2    0.2       0.1  0.3           0.1   \n",
       "3        0  None         0.2    0.2       0.1  0.1           0.5   \n",
       "4        0  None         0.4    0.4       0.1  0.1           0.5   \n",
       "..     ...   ...         ...    ...       ...  ...           ...   \n",
       "271      1     1         0.1    0.1      -0.1  0.4           0.1   \n",
       "272      0     0         0.1    0.0       0.2  0.0           0.1   \n",
       "273      0     2         0.5    0.1       0.1  0.1           0.1   \n",
       "274      0     0         0.2    0.4       0.2  0.0           0.4   \n",
       "275      0     0         0.2    0.4       0.2  0.0           0.4   \n",
       "\n",
       "                                                  text  \n",
       "0    @username @username And what are the first imp...  \n",
       "1    Here we go again: Tomorrow could be the best d...  \n",
       "2    I like a @username: Sesame Street: Upside Down...  \n",
       "3    Cool art vs Lame art: vs \\n @username gives a ...  \n",
       "4    @username @username I'm still curious though i...  \n",
       "..                                                 ...  \n",
       "271  @username @username @username @username the fi...  \n",
       "272  @username I spend half an hour looking for the...  \n",
       "273  @username you are right! \\n Today marks World ...  \n",
       "274  @username I have been in Grazalema since: !! I...  \n",
       "275  Good morning... Whoever they are. \\n This thin...  \n",
       "\n",
       "[276 rows x 8 columns]"
      ]
     },
     "execution_count": 3,
     "metadata": {},
     "output_type": "execute_result"
    }
   ],
   "source": [
    "df = df.drop(df.index[59])\n",
    "df.reset_index(drop=True)"
   ]
  },
  {
   "cell_type": "code",
   "execution_count": 4,
   "id": "c1a51f1d-3cff-4050-a7a8-3cb8ff5254d2",
   "metadata": {
    "execution": {
     "iopub.execute_input": "2022-08-24T17:33:42.650119Z",
     "iopub.status.busy": "2022-08-24T17:33:42.649764Z",
     "iopub.status.idle": "2022-08-24T17:33:42.655023Z",
     "shell.execute_reply": "2022-08-24T17:33:42.654382Z",
     "shell.execute_reply.started": "2022-08-24T17:33:42.650096Z"
    }
   },
   "outputs": [],
   "source": [
    "dtf = df.drop('age', axis=1)"
   ]
  },
  {
   "cell_type": "code",
   "execution_count": 5,
   "id": "b930c150-1880-4f00-bbfb-03daa0af491c",
   "metadata": {
    "execution": {
     "iopub.execute_input": "2022-08-24T17:33:44.010548Z",
     "iopub.status.busy": "2022-08-24T17:33:44.010347Z",
     "iopub.status.idle": "2022-08-24T17:33:44.013607Z",
     "shell.execute_reply": "2022-08-24T17:33:44.013031Z",
     "shell.execute_reply.started": "2022-08-24T17:33:44.010530Z"
    }
   },
   "outputs": [],
   "source": [
    "labels_col = [\"gender\", \"extroverted\", \"stable\", \"agreeable\", \\\n",
    "            \"open\", \"conscientious\"]"
   ]
  },
  {
   "cell_type": "code",
   "execution_count": 6,
   "id": "8ef57211-7b09-4621-8e51-40f0a9377f9d",
   "metadata": {
    "execution": {
     "iopub.execute_input": "2022-08-24T17:33:45.719743Z",
     "iopub.status.busy": "2022-08-24T17:33:45.719442Z",
     "iopub.status.idle": "2022-08-24T17:33:45.726981Z",
     "shell.execute_reply": "2022-08-24T17:33:45.726348Z",
     "shell.execute_reply.started": "2022-08-24T17:33:45.719722Z"
    }
   },
   "outputs": [],
   "source": [
    "dtf[labels_col] = dtf[labels_col].apply(pd.to_numeric)"
   ]
  },
  {
   "cell_type": "code",
   "execution_count": 7,
   "id": "0e867dda-2cab-4159-91b7-1973963e4da6",
   "metadata": {
    "execution": {
     "iopub.execute_input": "2022-08-24T17:33:48.129097Z",
     "iopub.status.busy": "2022-08-24T17:33:48.128872Z",
     "iopub.status.idle": "2022-08-24T17:33:48.142418Z",
     "shell.execute_reply": "2022-08-24T17:33:48.141716Z",
     "shell.execute_reply.started": "2022-08-24T17:33:48.129078Z"
    }
   },
   "outputs": [
    {
     "data": {
      "text/html": [
       "<div>\n",
       "<style scoped>\n",
       "    .dataframe tbody tr th:only-of-type {\n",
       "        vertical-align: middle;\n",
       "    }\n",
       "\n",
       "    .dataframe tbody tr th {\n",
       "        vertical-align: top;\n",
       "    }\n",
       "\n",
       "    .dataframe thead th {\n",
       "        text-align: right;\n",
       "    }\n",
       "</style>\n",
       "<table border=\"1\" class=\"dataframe\">\n",
       "  <thead>\n",
       "    <tr style=\"text-align: right;\">\n",
       "      <th></th>\n",
       "      <th>gender</th>\n",
       "      <th>extroverted</th>\n",
       "      <th>stable</th>\n",
       "      <th>agreeable</th>\n",
       "      <th>open</th>\n",
       "      <th>conscientious</th>\n",
       "      <th>text</th>\n",
       "    </tr>\n",
       "  </thead>\n",
       "  <tbody>\n",
       "    <tr>\n",
       "      <th>0</th>\n",
       "      <td>0</td>\n",
       "      <td>1</td>\n",
       "      <td>1</td>\n",
       "      <td>1</td>\n",
       "      <td>1</td>\n",
       "      <td>1</td>\n",
       "      <td>@username @username And what are the first imp...</td>\n",
       "    </tr>\n",
       "    <tr>\n",
       "      <th>1</th>\n",
       "      <td>1</td>\n",
       "      <td>1</td>\n",
       "      <td>1</td>\n",
       "      <td>1</td>\n",
       "      <td>1</td>\n",
       "      <td>1</td>\n",
       "      <td>Here we go again: Tomorrow could be the best d...</td>\n",
       "    </tr>\n",
       "    <tr>\n",
       "      <th>2</th>\n",
       "      <td>1</td>\n",
       "      <td>1</td>\n",
       "      <td>1</td>\n",
       "      <td>1</td>\n",
       "      <td>1</td>\n",
       "      <td>1</td>\n",
       "      <td>I like a @username: Sesame Street: Upside Down...</td>\n",
       "    </tr>\n",
       "    <tr>\n",
       "      <th>3</th>\n",
       "      <td>0</td>\n",
       "      <td>1</td>\n",
       "      <td>1</td>\n",
       "      <td>1</td>\n",
       "      <td>1</td>\n",
       "      <td>1</td>\n",
       "      <td>Cool art vs Lame art: vs \\n @username gives a ...</td>\n",
       "    </tr>\n",
       "    <tr>\n",
       "      <th>4</th>\n",
       "      <td>0</td>\n",
       "      <td>1</td>\n",
       "      <td>1</td>\n",
       "      <td>1</td>\n",
       "      <td>1</td>\n",
       "      <td>1</td>\n",
       "      <td>@username @username I'm still curious though i...</td>\n",
       "    </tr>\n",
       "    <tr>\n",
       "      <th>...</th>\n",
       "      <td>...</td>\n",
       "      <td>...</td>\n",
       "      <td>...</td>\n",
       "      <td>...</td>\n",
       "      <td>...</td>\n",
       "      <td>...</td>\n",
       "      <td>...</td>\n",
       "    </tr>\n",
       "    <tr>\n",
       "      <th>272</th>\n",
       "      <td>1</td>\n",
       "      <td>1</td>\n",
       "      <td>1</td>\n",
       "      <td>0</td>\n",
       "      <td>1</td>\n",
       "      <td>1</td>\n",
       "      <td>@username @username @username @username the fi...</td>\n",
       "    </tr>\n",
       "    <tr>\n",
       "      <th>273</th>\n",
       "      <td>0</td>\n",
       "      <td>1</td>\n",
       "      <td>0</td>\n",
       "      <td>1</td>\n",
       "      <td>0</td>\n",
       "      <td>1</td>\n",
       "      <td>@username I spend half an hour looking for the...</td>\n",
       "    </tr>\n",
       "    <tr>\n",
       "      <th>274</th>\n",
       "      <td>0</td>\n",
       "      <td>1</td>\n",
       "      <td>1</td>\n",
       "      <td>1</td>\n",
       "      <td>1</td>\n",
       "      <td>1</td>\n",
       "      <td>@username you are right! \\n Today marks World ...</td>\n",
       "    </tr>\n",
       "    <tr>\n",
       "      <th>275</th>\n",
       "      <td>0</td>\n",
       "      <td>1</td>\n",
       "      <td>1</td>\n",
       "      <td>1</td>\n",
       "      <td>0</td>\n",
       "      <td>1</td>\n",
       "      <td>@username I have been in Grazalema since: !! I...</td>\n",
       "    </tr>\n",
       "    <tr>\n",
       "      <th>276</th>\n",
       "      <td>0</td>\n",
       "      <td>1</td>\n",
       "      <td>1</td>\n",
       "      <td>1</td>\n",
       "      <td>0</td>\n",
       "      <td>1</td>\n",
       "      <td>Good morning... Whoever they are. \\n This thin...</td>\n",
       "    </tr>\n",
       "  </tbody>\n",
       "</table>\n",
       "<p>276 rows × 7 columns</p>\n",
       "</div>"
      ],
      "text/plain": [
       "     gender  extroverted  stable  agreeable  open  conscientious  \\\n",
       "0         0            1       1          1     1              1   \n",
       "1         1            1       1          1     1              1   \n",
       "2         1            1       1          1     1              1   \n",
       "3         0            1       1          1     1              1   \n",
       "4         0            1       1          1     1              1   \n",
       "..      ...          ...     ...        ...   ...            ...   \n",
       "272       1            1       1          0     1              1   \n",
       "273       0            1       0          1     0              1   \n",
       "274       0            1       1          1     1              1   \n",
       "275       0            1       1          1     0              1   \n",
       "276       0            1       1          1     0              1   \n",
       "\n",
       "                                                  text  \n",
       "0    @username @username And what are the first imp...  \n",
       "1    Here we go again: Tomorrow could be the best d...  \n",
       "2    I like a @username: Sesame Street: Upside Down...  \n",
       "3    Cool art vs Lame art: vs \\n @username gives a ...  \n",
       "4    @username @username I'm still curious though i...  \n",
       "..                                                 ...  \n",
       "272  @username @username @username @username the fi...  \n",
       "273  @username I spend half an hour looking for the...  \n",
       "274  @username you are right! \\n Today marks World ...  \n",
       "275  @username I have been in Grazalema since: !! I...  \n",
       "276  Good morning... Whoever they are. \\n This thin...  \n",
       "\n",
       "[276 rows x 7 columns]"
      ]
     },
     "execution_count": 7,
     "metadata": {},
     "output_type": "execute_result"
    }
   ],
   "source": [
    "cols = ['extroverted', 'stable', 'agreeable', 'open', 'conscientious']\n",
    "dtf[cols] = dtf[cols].applymap(lambda x: int(x > 0))\n",
    "dtf"
   ]
  },
  {
   "cell_type": "code",
   "execution_count": 8,
   "id": "6004b69c-282c-4a74-9f59-aaa1b9f8cdc0",
   "metadata": {
    "execution": {
     "iopub.execute_input": "2022-08-24T17:33:53.909312Z",
     "iopub.status.busy": "2022-08-24T17:33:53.908943Z",
     "iopub.status.idle": "2022-08-24T17:33:55.332348Z",
     "shell.execute_reply": "2022-08-24T17:33:55.331454Z",
     "shell.execute_reply.started": "2022-08-24T17:33:53.909289Z"
    }
   },
   "outputs": [],
   "source": [
    "import nlpaug.augmenter.word as naw"
   ]
  },
  {
   "cell_type": "code",
   "execution_count": 9,
   "id": "cb07522b-4d36-4a10-8d93-f10e312c0f79",
   "metadata": {
    "execution": {
     "iopub.execute_input": "2022-08-24T17:33:56.410179Z",
     "iopub.status.busy": "2022-08-24T17:33:56.409921Z",
     "iopub.status.idle": "2022-08-24T17:33:58.027191Z",
     "shell.execute_reply": "2022-08-24T17:33:58.026306Z",
     "shell.execute_reply.started": "2022-08-24T17:33:56.410157Z"
    }
   },
   "outputs": [
    {
     "name": "stdout",
     "output_type": "stream",
     "text": [
      "Requirement already satisfied: transformers in /usr/local/lib/python3.8/dist-packages (4.21.2)\n",
      "Requirement already satisfied: filelock in /usr/local/lib/python3.8/dist-packages (from transformers) (3.8.0)\n",
      "Requirement already satisfied: huggingface-hub<1.0,>=0.1.0 in /usr/local/lib/python3.8/dist-packages (from transformers) (0.9.0)\n",
      "Requirement already satisfied: packaging>=20.0 in /usr/local/lib/python3.8/dist-packages (from transformers) (21.3)\n",
      "Requirement already satisfied: regex!=2019.12.17 in /usr/local/lib/python3.8/dist-packages (from transformers) (2022.8.17)\n",
      "Requirement already satisfied: requests in /usr/lib/python3/dist-packages (from transformers) (2.22.0)\n",
      "Requirement already satisfied: numpy>=1.17 in /usr/local/lib/python3.8/dist-packages (from transformers) (1.23.2)\n",
      "Requirement already satisfied: pyyaml>=5.1 in /usr/local/lib/python3.8/dist-packages (from transformers) (5.4.1)\n",
      "Requirement already satisfied: tqdm>=4.27 in /usr/local/lib/python3.8/dist-packages (from transformers) (4.64.0)\n",
      "Requirement already satisfied: tokenizers!=0.11.3,<0.13,>=0.11.1 in /usr/local/lib/python3.8/dist-packages (from transformers) (0.12.1)\n",
      "Requirement already satisfied: typing-extensions>=3.7.4.3 in /usr/local/lib/python3.8/dist-packages (from huggingface-hub<1.0,>=0.1.0->transformers) (4.3.0)\n",
      "Requirement already satisfied: pyparsing!=3.0.5,>=2.0.2 in /usr/local/lib/python3.8/dist-packages (from packaging>=20.0->transformers) (3.0.9)\n",
      "\u001b[33mWARNING: Running pip as the 'root' user can result in broken permissions and conflicting behaviour with the system package manager. It is recommended to use a virtual environment instead: https://pip.pypa.io/warnings/venv\u001b[0m\u001b[33m\n",
      "\u001b[0m"
     ]
    }
   ],
   "source": [
    "!pip install transformers\n",
    "\n",
    "# aug = naw.ContextualWordEmbsAug(\n",
    "#     model_path='roberta-base', action=\"substitute\")"
   ]
  },
  {
   "cell_type": "code",
   "execution_count": 10,
   "id": "28ddef01-f30d-4fe2-a218-4e05b77d9ad6",
   "metadata": {
    "execution": {
     "iopub.execute_input": "2022-08-24T17:34:01.558676Z",
     "iopub.status.busy": "2022-08-24T17:34:01.558406Z",
     "iopub.status.idle": "2022-08-24T17:34:01.562410Z",
     "shell.execute_reply": "2022-08-24T17:34:01.561728Z",
     "shell.execute_reply.started": "2022-08-24T17:34:01.558652Z"
    }
   },
   "outputs": [],
   "source": [
    "cols = [\"gender\", \"extroverted\", \"stable\", \"agreeable\", \\\n",
    "            \"open\", \"conscientious\", \"text\"]"
   ]
  },
  {
   "cell_type": "code",
   "execution_count": 11,
   "id": "06d648f2-8f02-46d3-a0d8-28a989f4a7e7",
   "metadata": {
    "execution": {
     "iopub.execute_input": "2022-08-24T17:34:04.688355Z",
     "iopub.status.busy": "2022-08-24T17:34:04.688088Z",
     "iopub.status.idle": "2022-08-24T17:34:06.510479Z",
     "shell.execute_reply": "2022-08-24T17:34:06.508426Z",
     "shell.execute_reply.started": "2022-08-24T17:34:04.688333Z"
    }
   },
   "outputs": [],
   "source": [
    "aug1 = naw.ContextualWordEmbsAug(\n",
    "    model_path='distilbert-base-uncased', action=\"substitute\")"
   ]
  },
  {
   "cell_type": "code",
   "execution_count": 20,
   "id": "061d5147-ce18-4299-95ee-02b117c698b5",
   "metadata": {
    "execution": {
     "iopub.execute_input": "2022-08-24T18:18:20.516544Z",
     "iopub.status.busy": "2022-08-24T18:18:20.516192Z",
     "iopub.status.idle": "2022-08-24T18:18:20.524756Z",
     "shell.execute_reply": "2022-08-24T18:18:20.524108Z",
     "shell.execute_reply.started": "2022-08-24T18:18:20.516521Z"
    }
   },
   "outputs": [],
   "source": [
    "import string\n",
    "def augment_text(dtf, aug):\n",
    "    cols = [\"gender\", \"extroverted\", \"stable\", \"agreeable\", \\\n",
    "            \"open\", \"conscientious\", \"text\"]\n",
    "    aug_list = []\n",
    "    d = '\\n'\n",
    "    for index, row in dtf.iterrows():\n",
    "        user_tweets = [s+d for s in row['text'].split('\\n') if s]    \n",
    "\n",
    "        aug_user_texts = \"\"\n",
    "        to_aug=\"\"\n",
    "        i=0\n",
    "        for s in user_tweets:\n",
    "            aug_user_text=\"\"\n",
    "            if i > 450:\n",
    "                aug_user_text = aug.augment(to_aug)\n",
    "                aug_user_text = ' '.join(aug_user_text)\n",
    "                to_aug=\"\"\n",
    "\n",
    "                i=0\n",
    "            i += len(s.split())\n",
    "            to_aug = s + to_aug\n",
    "            aug_user_texts = (aug_user_texts + aug_user_text) if aug_user_text else aug_user_texts\n",
    "            # print(aug_user_texts)\n",
    "        new_data = [row['gender'], row['extroverted'], row['stable'], \n",
    "                        row['agreeable'], row['open'], row['conscientious'], aug_user_texts]\n",
    "        # print(aug_user_texts)\n",
    "        aug_list.append(new_data)\n",
    "\n",
    "    aug_df = pd.DataFrame(aug_list, columns=cols)\n",
    "\n",
    "    # new_df = pd.concat([dtf, aug_df], ignore_index=True, sort=False)\n",
    "    return aug_df"
   ]
  },
  {
   "cell_type": "code",
   "execution_count": 33,
   "id": "e4b9a34f-0bae-4366-910e-274701d1798a",
   "metadata": {
    "execution": {
     "iopub.execute_input": "2022-08-24T17:21:26.508901Z",
     "iopub.status.busy": "2022-08-24T17:21:26.508571Z",
     "iopub.status.idle": "2022-08-24T17:21:26.519582Z",
     "shell.execute_reply": "2022-08-24T17:21:26.518923Z",
     "shell.execute_reply.started": "2022-08-24T17:21:26.508881Z"
    }
   },
   "outputs": [
    {
     "data": {
      "text/html": [
       "<div>\n",
       "<style scoped>\n",
       "    .dataframe tbody tr th:only-of-type {\n",
       "        vertical-align: middle;\n",
       "    }\n",
       "\n",
       "    .dataframe tbody tr th {\n",
       "        vertical-align: top;\n",
       "    }\n",
       "\n",
       "    .dataframe thead th {\n",
       "        text-align: right;\n",
       "    }\n",
       "</style>\n",
       "<table border=\"1\" class=\"dataframe\">\n",
       "  <thead>\n",
       "    <tr style=\"text-align: right;\">\n",
       "      <th></th>\n",
       "      <th>gender</th>\n",
       "      <th>extroverted</th>\n",
       "      <th>stable</th>\n",
       "      <th>agreeable</th>\n",
       "      <th>open</th>\n",
       "      <th>conscientious</th>\n",
       "      <th>text</th>\n",
       "    </tr>\n",
       "  </thead>\n",
       "  <tbody>\n",
       "    <tr>\n",
       "      <th>0</th>\n",
       "      <td>0</td>\n",
       "      <td>1</td>\n",
       "      <td>1</td>\n",
       "      <td>1</td>\n",
       "      <td>1</td>\n",
       "      <td>1</td>\n",
       "      <td>@username @username And what are the first imp...</td>\n",
       "    </tr>\n",
       "    <tr>\n",
       "      <th>1</th>\n",
       "      <td>1</td>\n",
       "      <td>1</td>\n",
       "      <td>1</td>\n",
       "      <td>1</td>\n",
       "      <td>1</td>\n",
       "      <td>1</td>\n",
       "      <td>Here we go again: Tomorrow could be the best d...</td>\n",
       "    </tr>\n",
       "    <tr>\n",
       "      <th>2</th>\n",
       "      <td>1</td>\n",
       "      <td>1</td>\n",
       "      <td>1</td>\n",
       "      <td>1</td>\n",
       "      <td>1</td>\n",
       "      <td>1</td>\n",
       "      <td>I like a @username: Sesame Street: Upside Down...</td>\n",
       "    </tr>\n",
       "    <tr>\n",
       "      <th>3</th>\n",
       "      <td>0</td>\n",
       "      <td>1</td>\n",
       "      <td>1</td>\n",
       "      <td>1</td>\n",
       "      <td>1</td>\n",
       "      <td>1</td>\n",
       "      <td>Cool art vs Lame art: vs \\n @username gives a ...</td>\n",
       "    </tr>\n",
       "    <tr>\n",
       "      <th>4</th>\n",
       "      <td>0</td>\n",
       "      <td>1</td>\n",
       "      <td>1</td>\n",
       "      <td>1</td>\n",
       "      <td>1</td>\n",
       "      <td>1</td>\n",
       "      <td>@username @username I'm still curious though i...</td>\n",
       "    </tr>\n",
       "    <tr>\n",
       "      <th>...</th>\n",
       "      <td>...</td>\n",
       "      <td>...</td>\n",
       "      <td>...</td>\n",
       "      <td>...</td>\n",
       "      <td>...</td>\n",
       "      <td>...</td>\n",
       "      <td>...</td>\n",
       "    </tr>\n",
       "    <tr>\n",
       "      <th>272</th>\n",
       "      <td>1</td>\n",
       "      <td>1</td>\n",
       "      <td>1</td>\n",
       "      <td>0</td>\n",
       "      <td>1</td>\n",
       "      <td>1</td>\n",
       "      <td>@username @username @username @username the fi...</td>\n",
       "    </tr>\n",
       "    <tr>\n",
       "      <th>273</th>\n",
       "      <td>0</td>\n",
       "      <td>1</td>\n",
       "      <td>0</td>\n",
       "      <td>1</td>\n",
       "      <td>0</td>\n",
       "      <td>1</td>\n",
       "      <td>@username I spend half an hour looking for the...</td>\n",
       "    </tr>\n",
       "    <tr>\n",
       "      <th>274</th>\n",
       "      <td>0</td>\n",
       "      <td>1</td>\n",
       "      <td>1</td>\n",
       "      <td>1</td>\n",
       "      <td>1</td>\n",
       "      <td>1</td>\n",
       "      <td>@username you are right! \\n Today marks World ...</td>\n",
       "    </tr>\n",
       "    <tr>\n",
       "      <th>275</th>\n",
       "      <td>0</td>\n",
       "      <td>1</td>\n",
       "      <td>1</td>\n",
       "      <td>1</td>\n",
       "      <td>0</td>\n",
       "      <td>1</td>\n",
       "      <td>@username I have been in Grazalema since: !! I...</td>\n",
       "    </tr>\n",
       "    <tr>\n",
       "      <th>276</th>\n",
       "      <td>0</td>\n",
       "      <td>1</td>\n",
       "      <td>1</td>\n",
       "      <td>1</td>\n",
       "      <td>0</td>\n",
       "      <td>1</td>\n",
       "      <td>Good morning... Whoever they are. \\n This thin...</td>\n",
       "    </tr>\n",
       "  </tbody>\n",
       "</table>\n",
       "<p>276 rows × 7 columns</p>\n",
       "</div>"
      ],
      "text/plain": [
       "     gender  extroverted  stable  agreeable  open  conscientious  \\\n",
       "0         0            1       1          1     1              1   \n",
       "1         1            1       1          1     1              1   \n",
       "2         1            1       1          1     1              1   \n",
       "3         0            1       1          1     1              1   \n",
       "4         0            1       1          1     1              1   \n",
       "..      ...          ...     ...        ...   ...            ...   \n",
       "272       1            1       1          0     1              1   \n",
       "273       0            1       0          1     0              1   \n",
       "274       0            1       1          1     1              1   \n",
       "275       0            1       1          1     0              1   \n",
       "276       0            1       1          1     0              1   \n",
       "\n",
       "                                                  text  \n",
       "0    @username @username And what are the first imp...  \n",
       "1    Here we go again: Tomorrow could be the best d...  \n",
       "2    I like a @username: Sesame Street: Upside Down...  \n",
       "3    Cool art vs Lame art: vs \\n @username gives a ...  \n",
       "4    @username @username I'm still curious though i...  \n",
       "..                                                 ...  \n",
       "272  @username @username @username @username the fi...  \n",
       "273  @username I spend half an hour looking for the...  \n",
       "274  @username you are right! \\n Today marks World ...  \n",
       "275  @username I have been in Grazalema since: !! I...  \n",
       "276  Good morning... Whoever they are. \\n This thin...  \n",
       "\n",
       "[276 rows x 7 columns]"
      ]
     },
     "execution_count": 33,
     "metadata": {},
     "output_type": "execute_result"
    }
   ],
   "source": [
    "dtf"
   ]
  },
  {
   "cell_type": "code",
   "execution_count": 13,
   "id": "e6ab0a16-898e-4b40-8906-f333c5d25417",
   "metadata": {
    "execution": {
     "iopub.execute_input": "2022-08-24T17:34:58.078625Z",
     "iopub.status.busy": "2022-08-24T17:34:58.078356Z",
     "iopub.status.idle": "2022-08-24T17:53:00.649451Z",
     "shell.execute_reply": "2022-08-24T17:53:00.648325Z",
     "shell.execute_reply.started": "2022-08-24T17:34:58.078606Z"
    }
   },
   "outputs": [],
   "source": [
    "new_df = augment_text(dtf, aug1)"
   ]
  },
  {
   "cell_type": "code",
   "execution_count": 17,
   "id": "e7e3c3c9-7ac2-44a7-9334-5878a8e8e6a0",
   "metadata": {
    "execution": {
     "iopub.execute_input": "2022-08-24T18:03:52.487409Z",
     "iopub.status.busy": "2022-08-24T18:03:52.487045Z",
     "iopub.status.idle": "2022-08-24T18:03:52.600240Z",
     "shell.execute_reply": "2022-08-24T18:03:52.599488Z",
     "shell.execute_reply.started": "2022-08-24T18:03:52.487384Z"
    }
   },
   "outputs": [],
   "source": [
    "new_df.to_csv('df1.csv', encoding='utf-8', index=False)"
   ]
  },
  {
   "cell_type": "code",
   "execution_count": 21,
   "id": "ff8ccc31-a735-49a1-a3ee-988e410f1049",
   "metadata": {
    "execution": {
     "iopub.execute_input": "2022-08-24T18:18:25.886239Z",
     "iopub.status.busy": "2022-08-24T18:18:25.885894Z",
     "iopub.status.idle": "2022-08-24T18:18:25.890580Z",
     "shell.execute_reply": "2022-08-24T18:18:25.889906Z",
     "shell.execute_reply.started": "2022-08-24T18:18:25.886216Z"
    }
   },
   "outputs": [],
   "source": [
    "aug = naw.ContextualWordEmbsAug(\n",
    "    model_path='roberta-base', action=\"substitute\")"
   ]
  },
  {
   "cell_type": "code",
   "execution_count": 22,
   "id": "ecc4480f-b55f-4378-a826-68196aaec969",
   "metadata": {
    "execution": {
     "iopub.execute_input": "2022-08-24T18:18:39.446585Z",
     "iopub.status.busy": "2022-08-24T18:18:39.446228Z",
     "iopub.status.idle": "2022-08-24T18:51:29.370041Z",
     "shell.execute_reply": "2022-08-24T18:51:29.368775Z",
     "shell.execute_reply.started": "2022-08-24T18:18:39.446562Z"
    }
   },
   "outputs": [],
   "source": [
    "new_df1 = augment_text(dtf, aug)"
   ]
  },
  {
   "cell_type": "code",
   "execution_count": 25,
   "id": "45b092d1-cd46-4752-8f87-7f11ab1eb08a",
   "metadata": {
    "execution": {
     "iopub.execute_input": "2022-08-24T19:00:08.864391Z",
     "iopub.status.busy": "2022-08-24T19:00:08.863980Z",
     "iopub.status.idle": "2022-08-24T19:00:08.924102Z",
     "shell.execute_reply": "2022-08-24T19:00:08.923254Z",
     "shell.execute_reply.started": "2022-08-24T19:00:08.864367Z"
    }
   },
   "outputs": [],
   "source": [
    "new_df1.to_csv('new_df1.csv', encoding='utf-8', index=False)"
   ]
  },
  {
   "cell_type": "code",
   "execution_count": 26,
   "id": "e12af5be-8e5d-4552-b58c-9cfd073aea62",
   "metadata": {
    "execution": {
     "iopub.execute_input": "2022-08-24T19:11:49.066120Z",
     "iopub.status.busy": "2022-08-24T19:11:49.065745Z",
     "iopub.status.idle": "2022-08-24T19:17:22.905906Z",
     "shell.execute_reply": "2022-08-24T19:17:22.904923Z",
     "shell.execute_reply.started": "2022-08-24T19:11:49.066094Z"
    }
   },
   "outputs": [],
   "source": [
    "aug2 = naw.WordEmbsAug(\n",
    "    model_type='fasttext', model_path='../crawl-300d-2M.vec',\n",
    "    action=\"substitute\")"
   ]
  },
  {
   "cell_type": "code",
   "execution_count": 27,
   "id": "aded3bd7-ef60-4e1b-b421-c6880b6020da",
   "metadata": {
    "execution": {
     "iopub.execute_input": "2022-08-24T19:19:06.117791Z",
     "iopub.status.busy": "2022-08-24T19:19:06.117277Z",
     "iopub.status.idle": "2022-08-24T19:28:28.992731Z",
     "shell.execute_reply": "2022-08-24T19:28:28.991779Z",
     "shell.execute_reply.started": "2022-08-24T19:19:06.117766Z"
    }
   },
   "outputs": [],
   "source": [
    "new_df2 = augment_text(dtf, aug2)"
   ]
  },
  {
   "cell_type": "code",
   "execution_count": 35,
   "id": "00f3f620-6d82-4f41-8b59-d0b821dd233d",
   "metadata": {
    "execution": {
     "iopub.execute_input": "2022-08-24T19:35:19.446707Z",
     "iopub.status.busy": "2022-08-24T19:35:19.446379Z",
     "iopub.status.idle": "2022-08-24T19:35:19.504747Z",
     "shell.execute_reply": "2022-08-24T19:35:19.504041Z",
     "shell.execute_reply.started": "2022-08-24T19:35:19.446684Z"
    }
   },
   "outputs": [],
   "source": [
    "new_df2.to_csv('new_df2.csv', encoding='utf-8', index=False)"
   ]
  },
  {
   "cell_type": "code",
   "execution_count": 30,
   "id": "0d6534d1-d89f-42b1-9d94-d15031da28f4",
   "metadata": {
    "execution": {
     "iopub.execute_input": "2022-08-24T19:32:48.895804Z",
     "iopub.status.busy": "2022-08-24T19:32:48.895456Z",
     "iopub.status.idle": "2022-08-24T19:32:48.899427Z",
     "shell.execute_reply": "2022-08-24T19:32:48.898795Z",
     "shell.execute_reply.started": "2022-08-24T19:32:48.895783Z"
    }
   },
   "outputs": [],
   "source": [
    "aug3 = naw.WordEmbsAug(\n",
    "    model_type='fasttext', model_path='../crawl-300d-2M.vec',\n",
    "    action=\"insert\") "
   ]
  },
  {
   "cell_type": "code",
   "execution_count": 32,
   "id": "a66e54bf-85ee-4b30-b568-7049b5e08374",
   "metadata": {
    "execution": {
     "iopub.execute_input": "2022-08-24T19:33:42.375607Z",
     "iopub.status.busy": "2022-08-24T19:33:42.375298Z",
     "iopub.status.idle": "2022-08-24T19:33:45.606414Z",
     "shell.execute_reply": "2022-08-24T19:33:45.605545Z",
     "shell.execute_reply.started": "2022-08-24T19:33:42.375587Z"
    }
   },
   "outputs": [],
   "source": [
    "new_df3 = augment_text(dtf, aug3) "
   ]
  },
  {
   "cell_type": "code",
   "execution_count": 36,
   "id": "b9511658-9480-4f19-892c-d84a6b79aab8",
   "metadata": {
    "execution": {
     "iopub.execute_input": "2022-08-24T19:35:26.375634Z",
     "iopub.status.busy": "2022-08-24T19:35:26.375308Z",
     "iopub.status.idle": "2022-08-24T19:35:26.439933Z",
     "shell.execute_reply": "2022-08-24T19:35:26.439160Z",
     "shell.execute_reply.started": "2022-08-24T19:35:26.375612Z"
    }
   },
   "outputs": [],
   "source": [
    "new_df3.to_csv('new_df3.csv', encoding='utf8', index=False)"
   ]
  },
  {
   "cell_type": "code",
   "execution_count": 43,
   "id": "df0326d0-1475-417c-a1bf-6cba5d665493",
   "metadata": {
    "execution": {
     "iopub.execute_input": "2022-08-24T19:40:20.567136Z",
     "iopub.status.busy": "2022-08-24T19:40:20.566824Z",
     "iopub.status.idle": "2022-08-24T19:40:20.571991Z",
     "shell.execute_reply": "2022-08-24T19:40:20.571309Z",
     "shell.execute_reply.started": "2022-08-24T19:40:20.567115Z"
    }
   },
   "outputs": [],
   "source": [
    "df = pd.concat([new_df, new_df1], ignore_index=True) "
   ]
  },
  {
   "cell_type": "code",
   "execution_count": 44,
   "id": "d89791e1-7cfb-4d48-b95a-27f4f1152467",
   "metadata": {
    "execution": {
     "iopub.execute_input": "2022-08-24T19:41:12.390104Z",
     "iopub.status.busy": "2022-08-24T19:41:12.389783Z",
     "iopub.status.idle": "2022-08-24T19:41:12.394390Z",
     "shell.execute_reply": "2022-08-24T19:41:12.393723Z",
     "shell.execute_reply.started": "2022-08-24T19:41:12.390082Z"
    }
   },
   "outputs": [],
   "source": [
    "df = pd.concat([df, new_df2], ignore_index=True) "
   ]
  },
  {
   "cell_type": "code",
   "execution_count": 47,
   "id": "330ab7f9-3290-4794-9757-859b4118624c",
   "metadata": {
    "execution": {
     "iopub.execute_input": "2022-08-24T19:48:51.896876Z",
     "iopub.status.busy": "2022-08-24T19:48:51.896575Z",
     "iopub.status.idle": "2022-08-24T19:48:51.900927Z",
     "shell.execute_reply": "2022-08-24T19:48:51.900271Z",
     "shell.execute_reply.started": "2022-08-24T19:48:51.896856Z"
    }
   },
   "outputs": [],
   "source": [
    "df1 = pd.concat([df, new_df3], ignore_index=True) "
   ]
  },
  {
   "cell_type": "code",
   "execution_count": 53,
   "id": "9ae55311-35e0-4c52-9c6c-96a63d8c6d03",
   "metadata": {
    "execution": {
     "iopub.execute_input": "2022-08-24T19:54:35.037125Z",
     "iopub.status.busy": "2022-08-24T19:54:35.036826Z",
     "iopub.status.idle": "2022-08-24T19:54:35.230769Z",
     "shell.execute_reply": "2022-08-24T19:54:35.229890Z",
     "shell.execute_reply.started": "2022-08-24T19:54:35.037105Z"
    }
   },
   "outputs": [],
   "source": [
    "df.to_csv('df_no_insert', encoding='utf8', index=False)"
   ]
  },
  {
   "cell_type": "code",
   "execution_count": 49,
   "id": "91ae3076-5914-4208-ab6d-5f4f78f2df1b",
   "metadata": {
    "execution": {
     "iopub.execute_input": "2022-08-24T19:49:49.479154Z",
     "iopub.status.busy": "2022-08-24T19:49:49.478746Z",
     "iopub.status.idle": "2022-08-24T19:49:49.718656Z",
     "shell.execute_reply": "2022-08-24T19:49:49.717699Z",
     "shell.execute_reply.started": "2022-08-24T19:49:49.479133Z"
    }
   },
   "outputs": [],
   "source": [
    "df1.to_csv('df_with_insert', encoding='utf8', index=False)"
   ]
  },
  {
   "cell_type": "code",
   "execution_count": 50,
   "id": "b85ecd75-7b71-4780-ba07-1ee28df1d5e3",
   "metadata": {
    "execution": {
     "iopub.execute_input": "2022-08-24T19:52:40.647018Z",
     "iopub.status.busy": "2022-08-24T19:52:40.646555Z",
     "iopub.status.idle": "2022-08-24T19:52:40.657097Z",
     "shell.execute_reply": "2022-08-24T19:52:40.656430Z",
     "shell.execute_reply.started": "2022-08-24T19:52:40.646996Z"
    }
   },
   "outputs": [
    {
     "data": {
      "text/html": [
       "<div>\n",
       "<style scoped>\n",
       "    .dataframe tbody tr th:only-of-type {\n",
       "        vertical-align: middle;\n",
       "    }\n",
       "\n",
       "    .dataframe tbody tr th {\n",
       "        vertical-align: top;\n",
       "    }\n",
       "\n",
       "    .dataframe thead th {\n",
       "        text-align: right;\n",
       "    }\n",
       "</style>\n",
       "<table border=\"1\" class=\"dataframe\">\n",
       "  <thead>\n",
       "    <tr style=\"text-align: right;\">\n",
       "      <th></th>\n",
       "      <th>gender</th>\n",
       "      <th>extroverted</th>\n",
       "      <th>stable</th>\n",
       "      <th>agreeable</th>\n",
       "      <th>open</th>\n",
       "      <th>conscientious</th>\n",
       "      <th>text</th>\n",
       "    </tr>\n",
       "  </thead>\n",
       "  <tbody>\n",
       "    <tr>\n",
       "      <th>0</th>\n",
       "      <td>0</td>\n",
       "      <td>1</td>\n",
       "      <td>1</td>\n",
       "      <td>1</td>\n",
       "      <td>1</td>\n",
       "      <td>1</td>\n",
       "      <td>@username @username And what are the first imp...</td>\n",
       "    </tr>\n",
       "    <tr>\n",
       "      <th>1</th>\n",
       "      <td>1</td>\n",
       "      <td>1</td>\n",
       "      <td>1</td>\n",
       "      <td>1</td>\n",
       "      <td>1</td>\n",
       "      <td>1</td>\n",
       "      <td>Here we go again: Tomorrow could be the best d...</td>\n",
       "    </tr>\n",
       "    <tr>\n",
       "      <th>2</th>\n",
       "      <td>1</td>\n",
       "      <td>1</td>\n",
       "      <td>1</td>\n",
       "      <td>1</td>\n",
       "      <td>1</td>\n",
       "      <td>1</td>\n",
       "      <td>I like a @username: Sesame Street: Upside Down...</td>\n",
       "    </tr>\n",
       "    <tr>\n",
       "      <th>3</th>\n",
       "      <td>0</td>\n",
       "      <td>1</td>\n",
       "      <td>1</td>\n",
       "      <td>1</td>\n",
       "      <td>1</td>\n",
       "      <td>1</td>\n",
       "      <td>Cool art vs Lame art: vs \\n @username gives a ...</td>\n",
       "    </tr>\n",
       "    <tr>\n",
       "      <th>4</th>\n",
       "      <td>0</td>\n",
       "      <td>1</td>\n",
       "      <td>1</td>\n",
       "      <td>1</td>\n",
       "      <td>1</td>\n",
       "      <td>1</td>\n",
       "      <td>@username @username I'm still curious though i...</td>\n",
       "    </tr>\n",
       "    <tr>\n",
       "      <th>...</th>\n",
       "      <td>...</td>\n",
       "      <td>...</td>\n",
       "      <td>...</td>\n",
       "      <td>...</td>\n",
       "      <td>...</td>\n",
       "      <td>...</td>\n",
       "      <td>...</td>\n",
       "    </tr>\n",
       "    <tr>\n",
       "      <th>272</th>\n",
       "      <td>1</td>\n",
       "      <td>1</td>\n",
       "      <td>1</td>\n",
       "      <td>0</td>\n",
       "      <td>1</td>\n",
       "      <td>1</td>\n",
       "      <td>@username @username @username @username the fi...</td>\n",
       "    </tr>\n",
       "    <tr>\n",
       "      <th>273</th>\n",
       "      <td>0</td>\n",
       "      <td>1</td>\n",
       "      <td>0</td>\n",
       "      <td>1</td>\n",
       "      <td>0</td>\n",
       "      <td>1</td>\n",
       "      <td>@username I spend half an hour looking for the...</td>\n",
       "    </tr>\n",
       "    <tr>\n",
       "      <th>274</th>\n",
       "      <td>0</td>\n",
       "      <td>1</td>\n",
       "      <td>1</td>\n",
       "      <td>1</td>\n",
       "      <td>1</td>\n",
       "      <td>1</td>\n",
       "      <td>@username you are right! \\n Today marks World ...</td>\n",
       "    </tr>\n",
       "    <tr>\n",
       "      <th>275</th>\n",
       "      <td>0</td>\n",
       "      <td>1</td>\n",
       "      <td>1</td>\n",
       "      <td>1</td>\n",
       "      <td>0</td>\n",
       "      <td>1</td>\n",
       "      <td>@username I have been in Grazalema since: !! I...</td>\n",
       "    </tr>\n",
       "    <tr>\n",
       "      <th>276</th>\n",
       "      <td>0</td>\n",
       "      <td>1</td>\n",
       "      <td>1</td>\n",
       "      <td>1</td>\n",
       "      <td>0</td>\n",
       "      <td>1</td>\n",
       "      <td>Good morning... Whoever they are. \\n This thin...</td>\n",
       "    </tr>\n",
       "  </tbody>\n",
       "</table>\n",
       "<p>276 rows × 7 columns</p>\n",
       "</div>"
      ],
      "text/plain": [
       "     gender  extroverted  stable  agreeable  open  conscientious  \\\n",
       "0         0            1       1          1     1              1   \n",
       "1         1            1       1          1     1              1   \n",
       "2         1            1       1          1     1              1   \n",
       "3         0            1       1          1     1              1   \n",
       "4         0            1       1          1     1              1   \n",
       "..      ...          ...     ...        ...   ...            ...   \n",
       "272       1            1       1          0     1              1   \n",
       "273       0            1       0          1     0              1   \n",
       "274       0            1       1          1     1              1   \n",
       "275       0            1       1          1     0              1   \n",
       "276       0            1       1          1     0              1   \n",
       "\n",
       "                                                  text  \n",
       "0    @username @username And what are the first imp...  \n",
       "1    Here we go again: Tomorrow could be the best d...  \n",
       "2    I like a @username: Sesame Street: Upside Down...  \n",
       "3    Cool art vs Lame art: vs \\n @username gives a ...  \n",
       "4    @username @username I'm still curious though i...  \n",
       "..                                                 ...  \n",
       "272  @username @username @username @username the fi...  \n",
       "273  @username I spend half an hour looking for the...  \n",
       "274  @username you are right! \\n Today marks World ...  \n",
       "275  @username I have been in Grazalema since: !! I...  \n",
       "276  Good morning... Whoever they are. \\n This thin...  \n",
       "\n",
       "[276 rows x 7 columns]"
      ]
     },
     "execution_count": 50,
     "metadata": {},
     "output_type": "execute_result"
    }
   ],
   "source": [
    "dtf"
   ]
  },
  {
   "cell_type": "code",
   "execution_count": 51,
   "id": "30e571de-f7c3-41fa-957d-b7b16f4f9391",
   "metadata": {
    "execution": {
     "iopub.execute_input": "2022-08-24T19:53:03.288520Z",
     "iopub.status.busy": "2022-08-24T19:53:03.288200Z",
     "iopub.status.idle": "2022-08-24T19:53:03.297656Z",
     "shell.execute_reply": "2022-08-24T19:53:03.296998Z",
     "shell.execute_reply.started": "2022-08-24T19:53:03.288499Z"
    }
   },
   "outputs": [],
   "source": [
    "from sklearn.model_selection import train_test_split\n",
    "\n",
    "train, test = train_test_split(dtf,\n",
    "                                random_state = 55,\n",
    "                                test_size = 0.2)"
   ]
  },
  {
   "cell_type": "code",
   "execution_count": 54,
   "id": "9cb102c3-3778-444a-8447-712f2152e42b",
   "metadata": {
    "execution": {
     "iopub.execute_input": "2022-08-24T19:55:35.480435Z",
     "iopub.status.busy": "2022-08-24T19:55:35.480033Z",
     "iopub.status.idle": "2022-08-24T19:55:35.539192Z",
     "shell.execute_reply": "2022-08-24T19:55:35.538489Z",
     "shell.execute_reply.started": "2022-08-24T19:55:35.480410Z"
    }
   },
   "outputs": [],
   "source": [
    "train.to_csv('train.csv', encoding='utf8', index=True) "
   ]
  },
  {
   "cell_type": "code",
   "execution_count": 55,
   "id": "03d40745-0bd0-4e26-9939-a4280c571a4c",
   "metadata": {
    "execution": {
     "iopub.execute_input": "2022-08-24T19:55:56.227499Z",
     "iopub.status.busy": "2022-08-24T19:55:56.227183Z",
     "iopub.status.idle": "2022-08-24T19:55:56.253695Z",
     "shell.execute_reply": "2022-08-24T19:55:56.252830Z",
     "shell.execute_reply.started": "2022-08-24T19:55:56.227478Z"
    }
   },
   "outputs": [],
   "source": [
    "test.to_csv('test.csv', encoding='utf8', index=True) "
   ]
  },
  {
   "cell_type": "code",
   "execution_count": 56,
   "id": "4f4369d5-a6b0-46ab-9622-6aab2149ec5f",
   "metadata": {
    "execution": {
     "iopub.execute_input": "2022-08-24T19:57:05.057881Z",
     "iopub.status.busy": "2022-08-24T19:57:05.057547Z",
     "iopub.status.idle": "2022-08-24T20:27:08.564499Z",
     "shell.execute_reply": "2022-08-24T20:27:08.563628Z",
     "shell.execute_reply.started": "2022-08-24T19:57:05.057849Z"
    }
   },
   "outputs": [],
   "source": [
    "new_train = augment_text(train, aug)"
   ]
  },
  {
   "cell_type": "code",
   "execution_count": 57,
   "id": "34595c45-42b5-4ddb-953c-5a0e732fdbc2",
   "metadata": {
    "execution": {
     "iopub.execute_input": "2022-08-24T20:27:58.778672Z",
     "iopub.status.busy": "2022-08-24T20:27:58.778209Z",
     "iopub.status.idle": "2022-08-24T20:27:58.883180Z",
     "shell.execute_reply": "2022-08-24T20:27:58.882353Z",
     "shell.execute_reply.started": "2022-08-24T20:27:58.778650Z"
    }
   },
   "outputs": [],
   "source": [
    "new_train.to_csv('new_train.csv', encoding='utf8', index=True)"
   ]
  },
  {
   "cell_type": "code",
   "execution_count": 58,
   "id": "c42797c0-c261-4d6c-ab2c-6fdb4c1188d8",
   "metadata": {
    "execution": {
     "iopub.execute_input": "2022-08-24T20:28:10.367901Z",
     "iopub.status.busy": "2022-08-24T20:28:10.367582Z",
     "iopub.status.idle": "2022-08-24T21:00:53.889325Z",
     "shell.execute_reply": "2022-08-24T21:00:53.887832Z",
     "shell.execute_reply.started": "2022-08-24T20:28:10.367872Z"
    }
   },
   "outputs": [],
   "source": [
    "new_train1 = augment_text(train, aug)"
   ]
  },
  {
   "cell_type": "code",
   "execution_count": 59,
   "id": "65413381-9f93-4ffc-855e-5e10ccf62361",
   "metadata": {
    "execution": {
     "iopub.execute_input": "2022-08-24T21:03:12.017197Z",
     "iopub.status.busy": "2022-08-24T21:03:12.016713Z",
     "iopub.status.idle": "2022-08-24T21:03:12.067903Z",
     "shell.execute_reply": "2022-08-24T21:03:12.066724Z",
     "shell.execute_reply.started": "2022-08-24T21:03:12.017176Z"
    }
   },
   "outputs": [],
   "source": [
    "new_train1.to_csv('new_train1.csv', encoding='utf8', index=True)"
   ]
  },
  {
   "cell_type": "code",
   "execution_count": 60,
   "id": "e66587a8-7bd9-4d93-b047-b6721ff6569c",
   "metadata": {
    "execution": {
     "iopub.execute_input": "2022-08-24T21:04:01.287701Z",
     "iopub.status.busy": "2022-08-24T21:04:01.287367Z",
     "iopub.status.idle": "2022-08-24T21:10:32.964215Z",
     "shell.execute_reply": "2022-08-24T21:10:32.963259Z",
     "shell.execute_reply.started": "2022-08-24T21:04:01.287658Z"
    }
   },
   "outputs": [],
   "source": [
    "new_train2 = augment_text(train, aug2) "
   ]
  },
  {
   "cell_type": "code",
   "execution_count": 61,
   "id": "3acc84fc-6b36-4885-a62e-46d13287db70",
   "metadata": {
    "execution": {
     "iopub.execute_input": "2022-08-24T21:13:51.391770Z",
     "iopub.status.busy": "2022-08-24T21:13:51.391413Z",
     "iopub.status.idle": "2022-08-24T21:13:51.441927Z",
     "shell.execute_reply": "2022-08-24T21:13:51.441210Z",
     "shell.execute_reply.started": "2022-08-24T21:13:51.391746Z"
    }
   },
   "outputs": [],
   "source": [
    "new_train2.to_csv('new_train2.csv', encoding='utf8', index=True)"
   ]
  },
  {
   "cell_type": "code",
   "execution_count": 62,
   "id": "e10e012e-cc5a-4302-ad36-2808aab82319",
   "metadata": {
    "execution": {
     "iopub.execute_input": "2022-08-24T21:14:11.868993Z",
     "iopub.status.busy": "2022-08-24T21:14:11.868726Z",
     "iopub.status.idle": "2022-08-24T21:14:14.190587Z",
     "shell.execute_reply": "2022-08-24T21:14:14.189770Z",
     "shell.execute_reply.started": "2022-08-24T21:14:11.868973Z"
    }
   },
   "outputs": [],
   "source": [
    "new_train3 = augment_text(train, aug3) "
   ]
  },
  {
   "cell_type": "code",
   "execution_count": 63,
   "id": "c99ed54e-232e-453e-8caa-1a4b45a0df4c",
   "metadata": {
    "execution": {
     "iopub.execute_input": "2022-08-24T21:15:10.074919Z",
     "iopub.status.busy": "2022-08-24T21:15:10.074574Z",
     "iopub.status.idle": "2022-08-24T21:15:10.124791Z",
     "shell.execute_reply": "2022-08-24T21:15:10.124047Z",
     "shell.execute_reply.started": "2022-08-24T21:15:10.074895Z"
    }
   },
   "outputs": [],
   "source": [
    "new_train3.to_csv('new_train3.csv', encoding='utf8', index=True)"
   ]
  },
  {
   "cell_type": "code",
   "execution_count": 64,
   "id": "88841a15-af2d-4ab4-bb5b-e1d4e55d588f",
   "metadata": {
    "execution": {
     "iopub.execute_input": "2022-08-24T21:18:48.550391Z",
     "iopub.status.busy": "2022-08-24T21:18:48.550068Z",
     "iopub.status.idle": "2022-08-24T21:18:48.555752Z",
     "shell.execute_reply": "2022-08-24T21:18:48.555010Z",
     "shell.execute_reply.started": "2022-08-24T21:18:48.550369Z"
    }
   },
   "outputs": [],
   "source": [
    "train_df = pd.concat([train, new_train], ignore_index=True)\n",
    "train_df = pd.concat([train_df, new_train1], ignore_index=True)\n",
    "train_df = pd.concat([train_df, new_train2], ignore_index=True)"
   ]
  },
  {
   "cell_type": "code",
   "execution_count": 65,
   "id": "22094fdd-a567-4744-9af1-83765b828492",
   "metadata": {
    "execution": {
     "iopub.execute_input": "2022-08-24T21:19:34.548521Z",
     "iopub.status.busy": "2022-08-24T21:19:34.548190Z",
     "iopub.status.idle": "2022-08-24T21:19:34.708331Z",
     "shell.execute_reply": "2022-08-24T21:19:34.707427Z",
     "shell.execute_reply.started": "2022-08-24T21:19:34.548498Z"
    }
   },
   "outputs": [],
   "source": [
    "train_df.to_csv('train_no_insert.csv', encoding='utf8', index=True)"
   ]
  },
  {
   "cell_type": "code",
   "execution_count": 66,
   "id": "d1d6b5f6-0712-4382-ab48-414f714981e0",
   "metadata": {
    "execution": {
     "iopub.execute_input": "2022-08-24T21:20:23.911638Z",
     "iopub.status.busy": "2022-08-24T21:20:23.911323Z",
     "iopub.status.idle": "2022-08-24T21:20:23.916166Z",
     "shell.execute_reply": "2022-08-24T21:20:23.915215Z",
     "shell.execute_reply.started": "2022-08-24T21:20:23.911617Z"
    }
   },
   "outputs": [],
   "source": [
    "train_insert = pd.concat([train_df, new_train3], ignore_index=True)"
   ]
  },
  {
   "cell_type": "code",
   "execution_count": 68,
   "id": "4954309f-d175-4d49-a6dc-c440f906aaf6",
   "metadata": {
    "execution": {
     "iopub.execute_input": "2022-08-24T21:21:57.636990Z",
     "iopub.status.busy": "2022-08-24T21:21:57.636672Z",
     "iopub.status.idle": "2022-08-24T21:21:57.824157Z",
     "shell.execute_reply": "2022-08-24T21:21:57.823293Z",
     "shell.execute_reply.started": "2022-08-24T21:21:57.636968Z"
    }
   },
   "outputs": [],
   "source": [
    "train_insert.to_csv('train_with_insert.csv', index=True)"
   ]
  },
  {
   "cell_type": "code",
   "execution_count": 70,
   "id": "e80115ae-35bc-4d61-b064-e3fff8e9e78d",
   "metadata": {
    "execution": {
     "iopub.execute_input": "2022-08-24T21:22:38.955788Z",
     "iopub.status.busy": "2022-08-24T21:22:38.955451Z",
     "iopub.status.idle": "2022-08-24T21:22:38.970412Z",
     "shell.execute_reply": "2022-08-24T21:22:38.969744Z",
     "shell.execute_reply.started": "2022-08-24T21:22:38.955765Z"
    }
   },
   "outputs": [
    {
     "data": {
      "text/html": [
       "<div>\n",
       "<style scoped>\n",
       "    .dataframe tbody tr th:only-of-type {\n",
       "        vertical-align: middle;\n",
       "    }\n",
       "\n",
       "    .dataframe tbody tr th {\n",
       "        vertical-align: top;\n",
       "    }\n",
       "\n",
       "    .dataframe thead th {\n",
       "        text-align: right;\n",
       "    }\n",
       "</style>\n",
       "<table border=\"1\" class=\"dataframe\">\n",
       "  <thead>\n",
       "    <tr style=\"text-align: right;\">\n",
       "      <th></th>\n",
       "      <th>gender</th>\n",
       "      <th>extroverted</th>\n",
       "      <th>stable</th>\n",
       "      <th>agreeable</th>\n",
       "      <th>open</th>\n",
       "      <th>conscientious</th>\n",
       "      <th>text</th>\n",
       "    </tr>\n",
       "  </thead>\n",
       "  <tbody>\n",
       "    <tr>\n",
       "      <th>0</th>\n",
       "      <td>1</td>\n",
       "      <td>1</td>\n",
       "      <td>1</td>\n",
       "      <td>1</td>\n",
       "      <td>1</td>\n",
       "      <td>1</td>\n",
       "      <td>Endless love for Woody Allen movies. ???? (I'm...</td>\n",
       "    </tr>\n",
       "    <tr>\n",
       "      <th>1</th>\n",
       "      <td>0</td>\n",
       "      <td>1</td>\n",
       "      <td>1</td>\n",
       "      <td>1</td>\n",
       "      <td>1</td>\n",
       "      <td>1</td>\n",
       "      <td>@username @username why start talking about Ch...</td>\n",
       "    </tr>\n",
       "    <tr>\n",
       "      <th>2</th>\n",
       "      <td>1</td>\n",
       "      <td>0</td>\n",
       "      <td>1</td>\n",
       "      <td>0</td>\n",
       "      <td>1</td>\n",
       "      <td>1</td>\n",
       "      <td>Photo: \\n Your friends may be used to your imp...</td>\n",
       "    </tr>\n",
       "    <tr>\n",
       "      <th>3</th>\n",
       "      <td>1</td>\n",
       "      <td>1</td>\n",
       "      <td>1</td>\n",
       "      <td>0</td>\n",
       "      <td>1</td>\n",
       "      <td>1</td>\n",
       "      <td>@username @username @username @username the fi...</td>\n",
       "    </tr>\n",
       "    <tr>\n",
       "      <th>4</th>\n",
       "      <td>0</td>\n",
       "      <td>1</td>\n",
       "      <td>0</td>\n",
       "      <td>1</td>\n",
       "      <td>0</td>\n",
       "      <td>1</td>\n",
       "      <td>@username the sameee \\n @username Great!! \\n R...</td>\n",
       "    </tr>\n",
       "    <tr>\n",
       "      <th>...</th>\n",
       "      <td>...</td>\n",
       "      <td>...</td>\n",
       "      <td>...</td>\n",
       "      <td>...</td>\n",
       "      <td>...</td>\n",
       "      <td>...</td>\n",
       "      <td>...</td>\n",
       "    </tr>\n",
       "    <tr>\n",
       "      <th>875</th>\n",
       "      <td>0</td>\n",
       "      <td>1</td>\n",
       "      <td>1</td>\n",
       "      <td>1</td>\n",
       "      <td>1</td>\n",
       "      <td>1</td>\n",
       "      <td>@ username check out our game \" Julia A pick U...</td>\n",
       "    </tr>\n",
       "    <tr>\n",
       "      <th>876</th>\n",
       "      <td>1</td>\n",
       "      <td>0</td>\n",
       "      <td>0</td>\n",
       "      <td>0</td>\n",
       "      <td>0</td>\n",
       "      <td>1</td>\n",
       "      <td>@ username If you get this - will you bring so...</td>\n",
       "    </tr>\n",
       "    <tr>\n",
       "      <th>877</th>\n",
       "      <td>0</td>\n",
       "      <td>1</td>\n",
       "      <td>1</td>\n",
       "      <td>1</td>\n",
       "      <td>0</td>\n",
       "      <td>1</td>\n",
       "      <td>? Walking With Thee – Clinic # NowPlaying @ us...</td>\n",
       "    </tr>\n",
       "    <tr>\n",
       "      <th>878</th>\n",
       "      <td>0</td>\n",
       "      <td>1</td>\n",
       "      <td>1</td>\n",
       "      <td>1</td>\n",
       "      <td>1</td>\n",
       "      <td>1</td>\n",
       "      <td>. @ username Can you advance the performance o...</td>\n",
       "    </tr>\n",
       "    <tr>\n",
       "      <th>879</th>\n",
       "      <td>0</td>\n",
       "      <td>1</td>\n",
       "      <td>1</td>\n",
       "      <td>1</td>\n",
       "      <td>1</td>\n",
       "      <td>1</td>\n",
       "      <td></td>\n",
       "    </tr>\n",
       "  </tbody>\n",
       "</table>\n",
       "<p>880 rows × 7 columns</p>\n",
       "</div>"
      ],
      "text/plain": [
       "     gender  extroverted  stable  agreeable  open  conscientious  \\\n",
       "0         1            1       1          1     1              1   \n",
       "1         0            1       1          1     1              1   \n",
       "2         1            0       1          0     1              1   \n",
       "3         1            1       1          0     1              1   \n",
       "4         0            1       0          1     0              1   \n",
       "..      ...          ...     ...        ...   ...            ...   \n",
       "875       0            1       1          1     1              1   \n",
       "876       1            0       0          0     0              1   \n",
       "877       0            1       1          1     0              1   \n",
       "878       0            1       1          1     1              1   \n",
       "879       0            1       1          1     1              1   \n",
       "\n",
       "                                                  text  \n",
       "0    Endless love for Woody Allen movies. ???? (I'm...  \n",
       "1    @username @username why start talking about Ch...  \n",
       "2    Photo: \\n Your friends may be used to your imp...  \n",
       "3    @username @username @username @username the fi...  \n",
       "4    @username the sameee \\n @username Great!! \\n R...  \n",
       "..                                                 ...  \n",
       "875  @ username check out our game \" Julia A pick U...  \n",
       "876  @ username If you get this - will you bring so...  \n",
       "877  ? Walking With Thee – Clinic # NowPlaying @ us...  \n",
       "878  . @ username Can you advance the performance o...  \n",
       "879                                                     \n",
       "\n",
       "[880 rows x 7 columns]"
      ]
     },
     "execution_count": 70,
     "metadata": {},
     "output_type": "execute_result"
    }
   ],
   "source": [
    "train_df"
   ]
  }
 ],
 "metadata": {
  "kernelspec": {
   "display_name": "Python 3 (ipykernel)",
   "language": "python",
   "name": "python3"
  },
  "language_info": {
   "codemirror_mode": {
    "name": "ipython",
    "version": 3
   },
   "file_extension": ".py",
   "mimetype": "text/x-python",
   "name": "python",
   "nbconvert_exporter": "python",
   "pygments_lexer": "ipython3",
   "version": "3.9.13"
  }
 },
 "nbformat": 4,
 "nbformat_minor": 5
}
